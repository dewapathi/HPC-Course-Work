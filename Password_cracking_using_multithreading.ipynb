{
  "nbformat": 4,
  "nbformat_minor": 0,
  "metadata": {
    "colab": {
      "provenance": [],
      "gpuType": "T4"
    },
    "kernelspec": {
      "name": "python3",
      "display_name": "Python 3"
    },
    "language_info": {
      "name": "python"
    },
    "accelerator": "GPU"
  },
  "cells": [
    {
      "cell_type": "code",
      "execution_count": 2,
      "metadata": {
        "colab": {
          "base_uri": "https://localhost:8080/"
        },
        "id": "nC70uXYY0ku6",
        "outputId": "40264314-c8ce-4432-d118-39eaf6b1dcb2"
      },
      "outputs": [
        {
          "output_type": "stream",
          "name": "stdout",
          "text": [
            "Reading package lists... Done\n",
            "Building dependency tree... Done\n",
            "Reading state information... Done\n",
            "libcrypt-dev is already the newest version (1:4.4.27-1).\n",
            "libcrypt-dev set to manually installed.\n",
            "0 upgraded, 0 newly installed, 0 to remove and 24 not upgraded.\n"
          ]
        }
      ],
      "source": [
        "!sudo apt-get install -y libcrypt-dev"
      ]
    },
    {
      "cell_type": "code",
      "source": [
        "%%writefile EncryptSHA512.c\n",
        "\n",
        "#include <string.h>\n",
        "#include <stdio.h>\n",
        "#include <stdlib.h>\n",
        "#include <crypt.h>\n",
        "#include <unistd.h>\n",
        "/******************************************************************************\n",
        "  This program is used to set challenges for password cracking programs.\n",
        "  Encrypts using SHA-512.\n",
        "\n",
        "  Compile with:\n",
        "    cc -o EncryptSHA512 EncryptSHA512.c -lcrypt\n",
        "\n",
        "  To encrypt the password \"pass\":\n",
        "    ./EncryptSHA512 pass\n",
        "\n",
        "  It doesn't do any checking, just does the job or fails ungracefully.\n",
        "\n",
        "  Dr Kevan Buckley, University of Wolverhampton, 2017. Modified by Dr. Ali Safaa 2019\n",
        "******************************************************************************/\n",
        "\n",
        "#define SALT \"$6$AS$\"\n",
        "\n",
        "int main(int argc, char *argv[]){\n",
        "\n",
        "  printf(\"%s\\n\", crypt(argv[1], SALT));\n",
        "\n",
        "  return 0;\n",
        "}\n"
      ],
      "metadata": {
        "colab": {
          "base_uri": "https://localhost:8080/"
        },
        "id": "32R85lpT00Tg",
        "outputId": "9d4f8233-c33f-4295-fda0-e441d06b791c"
      },
      "execution_count": 3,
      "outputs": [
        {
          "output_type": "stream",
          "name": "stdout",
          "text": [
            "Writing EncryptSHA512.c\n"
          ]
        }
      ]
    },
    {
      "cell_type": "code",
      "source": [
        "!gcc -o EncryptSHA512 EncryptSHA512.c -lcrypt"
      ],
      "metadata": {
        "id": "IqiHQA5W2ZmZ"
      },
      "execution_count": 4,
      "outputs": []
    },
    {
      "cell_type": "code",
      "source": [
        "!./EncryptSHA512 ZZ99"
      ],
      "metadata": {
        "colab": {
          "base_uri": "https://localhost:8080/"
        },
        "id": "Zz84-cIO2eRS",
        "outputId": "9220abc4-df93-4830-e0d4-b41cb5a9634d"
      },
      "execution_count": 5,
      "outputs": [
        {
          "output_type": "stream",
          "name": "stdout",
          "text": [
            "$6$AS$P.Wy8B/NjpVgwGDKZ1uafxVzLNC7UpfX4yBca4BB03TvxHd0hRhjo0.qr1SpHDU2tzOTwTaVB5/8wm8f6Wgcf.\n"
          ]
        }
      ]
    },
    {
      "cell_type": "code",
      "source": [
        "%%writefile password_thead.c\n",
        "#include <stdio.h>\n",
        "#include <stdlib.h>\n",
        "#include <crypt.h>\n",
        "#include <pthread.h>\n",
        "#include <string.h>\n",
        "#include <stdatomic.h>\n",
        "\n",
        "#define SALT \"$6$AS$\"\n",
        "#define THREAD_COUNT 4  // Number of worker threads\n",
        "\n",
        "atomic_int found = 0;\n",
        "\n",
        "struct ThreadArgs {\n",
        "    int thread_id;\n",
        "    char *encryptedPassword;\n",
        "    char foundPassword[5];  // Enough space to store the found password\n",
        "};\n",
        "\n",
        "char* encryptPassword(char* password, struct crypt_data* cdata) {\n",
        "    return crypt_r(password, SALT, cdata);\n",
        "}\n",
        "\n",
        "void* crackPassword(void* arguments) {\n",
        "    struct ThreadArgs* args = (struct ThreadArgs*)arguments;\n",
        "    char letter1, letter2, number1, number2;\n",
        "    char password[5], *encryptedGuess;\n",
        "    struct crypt_data cdata;\n",
        "    cdata.initialized = 0; // To initialize the crypt_data structure\n",
        "\n",
        "    // Total combinations of letter1 and letter2 (26 * 26)\n",
        "    int totalLetterCombinations = 26 * 26;\n",
        "    // Calculate the range of letter combinations each thread should work on\n",
        "    int range = totalLetterCombinations / THREAD_COUNT;\n",
        "    // Calculate the start index for this thread\n",
        "    int start = args->thread_id * range;\n",
        "    // Calculate the end index for this thread\n",
        "    int end = start + range;\n",
        "\n",
        "    for (int i = start; i < end && !found; i++) {\n",
        "        letter1 = 'A' + (i / 26);\n",
        "        letter2 = 'A' + (i % 26);\n",
        "        for (number1 = '0'; number1 <= '9' && !found; number1++) {\n",
        "            for (number2 = '0'; number2 <= '9' && !found; number2++) {\n",
        "                password[0] = letter1;\n",
        "                password[1] = letter2;\n",
        "                password[2] = number1;\n",
        "                password[3] = number2;\n",
        "                password[4] = '\\0';\n",
        "\n",
        "                encryptedGuess = encryptPassword(password, &cdata);\n",
        "                if (strcmp(args->encryptedPassword, encryptedGuess) == 0) {\n",
        "                    strncpy(args->foundPassword, password, 5);\n",
        "                    atomic_store(&found, 1);\n",
        "                    printf(\"Password found: %s\\n\", args->foundPassword);\n",
        "                    return NULL;\n",
        "                }\n",
        "            }\n",
        "        }\n",
        "    }\n",
        "    return NULL;\n",
        "}\n",
        "\n",
        "int main() {\n",
        "    char encryptedPassword[100];\n",
        "    printf(\"Enter the encrypted password: \");\n",
        "    if (scanf(\"%99s\", encryptedPassword) != 1) {\n",
        "        fprintf(stderr, \"Failed to read encrypted password.\\n\");\n",
        "        return EXIT_FAILURE;\n",
        "    }\n",
        "\n",
        "    if (strlen(encryptedPassword) < 13) {\n",
        "        fprintf(stderr, \"Invalid encrypted password format.\\n\");\n",
        "        return EXIT_FAILURE;\n",
        "    }\n",
        "\n",
        "    pthread_t threads[THREAD_COUNT];\n",
        "    struct ThreadArgs threadArgs[THREAD_COUNT];\n",
        "\n",
        "    for (int i = 0; i < THREAD_COUNT; i++) {\n",
        "        threadArgs[i].thread_id = i;\n",
        "        threadArgs[i].encryptedPassword = encryptedPassword;\n",
        "        if (pthread_create(&threads[i], NULL, crackPassword, (void*)&threadArgs[i]) != 0) {\n",
        "            fprintf(stderr, \"Failed to create thread.\\n\");\n",
        "            return EXIT_FAILURE;\n",
        "        }\n",
        "    }\n",
        "\n",
        "    for (int i = 0; i < THREAD_COUNT; i++) {\n",
        "        if (pthread_join(threads[i], NULL) != 0) {\n",
        "            fprintf(stderr, \"Failed to join thread.\\n\");\n",
        "            return EXIT_FAILURE;\n",
        "        }\n",
        "    }\n",
        "\n",
        "    if (!found) {\n",
        "        printf(\"Password not found.\\n\");\n",
        "    }\n",
        "\n",
        "    return 0;\n",
        "}\n"
      ],
      "metadata": {
        "colab": {
          "base_uri": "https://localhost:8080/"
        },
        "id": "L6IDlm-42jvL",
        "outputId": "11b57862-28d9-45fe-e4ca-72a1e0b82d8e"
      },
      "execution_count": 6,
      "outputs": [
        {
          "output_type": "stream",
          "name": "stdout",
          "text": [
            "Writing password_thead.c\n"
          ]
        }
      ]
    },
    {
      "cell_type": "code",
      "source": [
        "!gcc -o password_thead password_thead.c -lcrypt -lpthread"
      ],
      "metadata": {
        "id": "Gh-CMmov2lUj"
      },
      "execution_count": 7,
      "outputs": []
    },
    {
      "cell_type": "code",
      "source": [
        "!./password_thead"
      ],
      "metadata": {
        "colab": {
          "base_uri": "https://localhost:8080/"
        },
        "id": "gn_ItEMo2oXi",
        "outputId": "bee9930f-2e5e-408e-be9e-445bbc00c8ef"
      },
      "execution_count": 8,
      "outputs": [
        {
          "output_type": "stream",
          "name": "stdout",
          "text": [
            "Enter the encrypted password: $6$AS$P.Wy8B/NjpVgwGDKZ1uafxVzLNC7UpfX4yBca4BB03TvxHd0hRhjo0.qr1SpHDU2tzOTwTaVB5/8wm8f6Wgcf.\n",
            "Password found: ZZ99\n"
          ]
        }
      ]
    }
  ]
}