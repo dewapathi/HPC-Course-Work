{
  "cells": [
    {
      "cell_type": "code",
      "execution_count": 1,
      "metadata": {
        "colab": {
          "base_uri": "https://localhost:8080/"
        },
        "id": "BvqX5LX26xRM",
        "outputId": "bad1795b-9411-4e39-eeb1-9b35cc7ebf53"
      },
      "outputs": [
        {
          "name": "stdout",
          "output_type": "stream",
          "text": [
            "nvcc: NVIDIA (R) Cuda compiler driver\n",
            "Copyright (c) 2005-2023 NVIDIA Corporation\n",
            "Built on Tue_Aug_15_22:02:13_PDT_2023\n",
            "Cuda compilation tools, release 12.2, V12.2.140\n",
            "Build cuda_12.2.r12.2/compiler.33191640_0\n",
            "Collecting git+https://github.com/andreinechaev/nvcc4jupyter.git\n",
            "  Cloning https://github.com/andreinechaev/nvcc4jupyter.git to /tmp/pip-req-build-q5yv4rdo\n",
            "  Running command git clone --filter=blob:none --quiet https://github.com/andreinechaev/nvcc4jupyter.git /tmp/pip-req-build-q5yv4rdo\n",
            "  Resolved https://github.com/andreinechaev/nvcc4jupyter.git to commit 0d2ab99cccbbc682722e708515fe9c4cfc50185a\n",
            "  Preparing metadata (setup.py) ... \u001b[?25l\u001b[?25hdone\n",
            "Building wheels for collected packages: NVCCPlugin\n",
            "  Building wheel for NVCCPlugin (setup.py) ... \u001b[?25l\u001b[?25hdone\n",
            "  Created wheel for NVCCPlugin: filename=NVCCPlugin-0.0.2-py3-none-any.whl size=4716 sha256=c1fff156b45bd4438ec9bfb8e07997d81144016243c4484292de0466f4d52a95\n",
            "  Stored in directory: /tmp/pip-ephem-wheel-cache-l8egqg7z/wheels/a8/b9/18/23f8ef71ceb0f63297dd1903aedd067e6243a68ea756d6feea\n",
            "Successfully built NVCCPlugin\n",
            "Installing collected packages: NVCCPlugin\n",
            "Successfully installed NVCCPlugin-0.0.2\n"
          ]
        }
      ],
      "source": [
        "!nvcc --version\n",
        "%pip install git+https://github.com/andreinechaev/nvcc4jupyter.git"
      ]
    },
    {
      "cell_type": "code",
      "execution_count": 2,
      "metadata": {
        "colab": {
          "base_uri": "https://localhost:8080/"
        },
        "id": "23IUQcwo6z2l",
        "outputId": "7f96e061-0eb1-49a9-da02-8f7811c08608"
      },
      "outputs": [
        {
          "name": "stdout",
          "output_type": "stream",
          "text": [
            "created output directory at /content/src\n",
            "Out bin /content/result.out\n"
          ]
        }
      ],
      "source": [
        "%load_ext nvcc_plugin"
      ]
    },
    {
      "cell_type": "code",
      "execution_count": 3,
      "metadata": {
        "colab": {
          "base_uri": "https://localhost:8080/"
        },
        "id": "GcSzjhxx7Y9w",
        "outputId": "e09dd36e-2aef-4c2d-ca48-f6a73eb4ccde"
      },
      "outputs": [
        {
          "name": "stdout",
          "output_type": "stream",
          "text": [
            "nvcc: NVIDIA (R) Cuda compiler driver\n",
            "Copyright (c) 2005-2023 NVIDIA Corporation\n",
            "Built on Tue_Aug_15_22:02:13_PDT_2023\n",
            "Cuda compilation tools, release 12.2, V12.2.140\n",
            "Build cuda_12.2.r12.2/compiler.33191640_0\n"
          ]
        }
      ],
      "source": [
        "!nvcc --version"
      ]
    },
    {
      "cell_type": "code",
      "execution_count": 4,
      "metadata": {
        "colab": {
          "base_uri": "https://localhost:8080/"
        },
        "id": "XXDRrhsh7cPX",
        "outputId": "e3e940e6-b83a-433c-de75-9aed1ecb0ee3"
      },
      "outputs": [
        {
          "name": "stdout",
          "output_type": "stream",
          "text": [
            "Fri Jan  5 14:01:39 2024       \n",
            "+---------------------------------------------------------------------------------------+\n",
            "| NVIDIA-SMI 535.104.05             Driver Version: 535.104.05   CUDA Version: 12.2     |\n",
            "|-----------------------------------------+----------------------+----------------------+\n",
            "| GPU  Name                 Persistence-M | Bus-Id        Disp.A | Volatile Uncorr. ECC |\n",
            "| Fan  Temp   Perf          Pwr:Usage/Cap |         Memory-Usage | GPU-Util  Compute M. |\n",
            "|                                         |                      |               MIG M. |\n",
            "|=========================================+======================+======================|\n",
            "|   0  Tesla T4                       Off | 00000000:00:04.0 Off |                    0 |\n",
            "| N/A   46C    P8              10W /  70W |      0MiB / 15360MiB |      0%      Default |\n",
            "|                                         |                      |                  N/A |\n",
            "+-----------------------------------------+----------------------+----------------------+\n",
            "                                                                                         \n",
            "+---------------------------------------------------------------------------------------+\n",
            "| Processes:                                                                            |\n",
            "|  GPU   GI   CI        PID   Type   Process name                            GPU Memory |\n",
            "|        ID   ID                                                             Usage      |\n",
            "|=======================================================================================|\n",
            "|  No running processes found                                                           |\n",
            "+---------------------------------------------------------------------------------------+\n"
          ]
        }
      ],
      "source": [
        "!nvidia-smi"
      ]
    },
    {
      "cell_type": "code",
      "execution_count": 5,
      "metadata": {
        "colab": {
          "base_uri": "https://localhost:8080/"
        },
        "id": "oM2t1GzU7gS-",
        "outputId": "4a58ac1c-d24a-42dc-cdcf-fc7d94bbef2f"
      },
      "outputs": [
        {
          "name": "stdout",
          "output_type": "stream",
          "text": [
            "Writing sha256.cuh\n"
          ]
        }
      ],
      "source": [
        "%%writefile sha256.cuh\n",
        "#ifndef SHA256_H\n",
        "#define SHA256_H\n",
        "\n",
        "#include <cstdint>\n",
        "\n",
        "/****************************** MACROS ******************************/\n",
        "#define SHA256_BLOCK_SIZE 32            // SHA256 outputs a 32-byte digest\n",
        "\n",
        "#define ROTLEFT(a,b) (((a) << (b)) | ((a) >> (32-(b))))\n",
        "#define ROTRIGHT(a,b) (((a) >> (b)) | ((a) << (32-(b))))\n",
        "\n",
        "#define CH(x,y,z) (((x) & (y)) ^ (~(x) & (z)))\n",
        "#define MAJ(x,y,z) (((x) & (y)) ^ ((x) & (z)) ^ ((y) & (z)))\n",
        "#define EP0(x) (ROTRIGHT(x,2) ^ ROTRIGHT(x,13) ^ ROTRIGHT(x,22))\n",
        "#define EP1(x) (ROTRIGHT(x,6) ^ ROTRIGHT(x,11) ^ ROTRIGHT(x,25))\n",
        "#define SIG0(x) (ROTRIGHT(x,7) ^ ROTRIGHT(x,18) ^ ((x) >> 3))\n",
        "#define SIG1(x) (ROTRIGHT(x,17) ^ ROTRIGHT(x,19) ^ ((x) >> 10))\n",
        "\n",
        "/****************************** DATA TYPES ******************************/\n",
        "typedef unsigned char BYTE;             // 8-bit byte\n",
        "typedef uint32_t  WORD;                  // 32-bit word, change to \"long\" for 16-bit machines\n",
        "\n",
        "typedef struct {\n",
        "    BYTE data[64];\n",
        "    WORD datalen;\n",
        "    unsigned long long bitlen;\n",
        "    WORD state[8];\n",
        "} SHA256_CTX;\n",
        "\n",
        "__constant__ WORD dev_k[64];\n",
        "\n",
        "static const WORD host_k[64] = {\n",
        "    0x428a2f98,0x71374491,0xb5c0fbcf,0xe9b5dba5,0x3956c25b,0x59f111f1,0x923f82a4,0xab1c5ed5,\n",
        "    0xd807aa98,0x12835b01,0x243185be,0x550c7dc3,0x72be5d74,0x80deb1fe,0x9bdc06a7,0xc19bf174,\n",
        "    0xe49b69c1,0xefbe4786,0x0fc19dc6,0x240ca1cc,0x2de92c6f,0x4a7484aa,0x5cb0a9dc,0x76f988da,\n",
        "    0x983e5152,0xa831c66d,0xb00327c8,0xbf597fc7,0xc6e00bf3,0xd5a79147,0x06ca6351,0x14292967,\n",
        "    0x27b70a85,0x2e1b2138,0x4d2c6dfc,0x53380d13,0x650a7354,0x766a0abb,0x81c2c92e,0x92722c85,\n",
        "    0xa2bfe8a1,0xa81a664b,0xc24b8b70,0xc76c51a3,0xd192e819,0xd6990624,0xf40e3585,0x106aa070,\n",
        "    0x19a4c116,0x1e376c08,0x2748774c,0x34b0bcb5,0x391c0cb3,0x4ed8aa4a,0x5b9cca4f,0x682e6ff3,\n",
        "    0x748f82ee,0x78a5636f,0x84c87814,0x8cc70208,0x90befffa,0xa4506ceb,0xbef9a3f7,0xc67178f2\n",
        "};\n",
        "\n",
        "/*************************** FUNCTION DECLARATIONS ***************************/\n",
        "char* print_sha(BYTE* buff);\n",
        "__device__ void sha256_init(SHA256_CTX* ctx);\n",
        "__device__ void sha256_update(SHA256_CTX* ctx, const BYTE data[], size_t len);\n",
        "__device__ void sha256_final(SHA256_CTX* ctx, BYTE hash[]);\n",
        "\n",
        "__device__ void mycpy12(uint32_t* d, const uint32_t* s) {\n",
        "#pragma unroll 3\n",
        "    for (int k = 0; k < 3; k++) d[k] = s[k];\n",
        "}\n",
        "\n",
        "__device__ void mycpy16(uint32_t* d, const uint32_t* s) {\n",
        "#pragma unroll 4\n",
        "    for (int k = 0; k < 4; k++) d[k] = s[k];\n",
        "}\n",
        "\n",
        "__device__ void mycpy32(uint32_t* d, const uint32_t* s) {\n",
        "#pragma unroll 8\n",
        "    for (int k = 0; k < 8; k++) d[k] = s[k];\n",
        "}\n",
        "\n",
        "__device__ void mycpy44(uint32_t* d, const uint32_t* s) {\n",
        "#pragma unroll 11\n",
        "    for (int k = 0; k < 11; k++) d[k] = s[k];\n",
        "}\n",
        "\n",
        "__device__ void mycpy48(uint32_t* d, const uint32_t* s) {\n",
        "#pragma unroll 12\n",
        "    for (int k = 0; k < 12; k++) d[k] = s[k];\n",
        "}\n",
        "\n",
        "__device__ void mycpy64(uint32_t* d, const uint32_t* s) {\n",
        "#pragma unroll 16\n",
        "    for (int k = 0; k < 16; k++) d[k] = s[k];\n",
        "}\n",
        "\n",
        "__device__ void sha256_transform(SHA256_CTX* ctx, const BYTE data[]) {\n",
        "    WORD a, b, c, d, e, f, g, h, i, j, t1, t2, m[64];\n",
        "    WORD S[8];\n",
        "\n",
        "#pragma unroll 16\n",
        "    for (i = 0, j = 0; i < 16; ++i, j += 4)\n",
        "        m[i] = (data[j] << 24) | (data[j + 1] << 16) | (data[j + 2] << 8) | (data[j + 3]);\n",
        "\n",
        "#pragma unroll 64\n",
        "    for (; i < 64; ++i)\n",
        "        m[i] = SIG1(m[i - 2]) + m[i - 7] + SIG0(m[i - 15]) + m[i - 16];\n",
        "\n",
        "    a = ctx->state[0];\n",
        "    b = ctx->state[1];\n",
        "    c = ctx->state[2];\n",
        "    d = ctx->state[3];\n",
        "    e = ctx->state[4];\n",
        "    f = ctx->state[5];\n",
        "    g = ctx->state[6];\n",
        "    h = ctx->state[7];\n",
        "\n",
        "#pragma unroll 64\n",
        "    for (i = 0; i < 64; ++i) {\n",
        "        t1 = h + EP1(e) + CH(e, f, g) + dev_k[i] + m[i];\n",
        "        t2 = EP0(a) + MAJ(a, b, c);\n",
        "        h = g;\n",
        "        g = f;\n",
        "        f = e;\n",
        "        e = d + t1;\n",
        "        d = c;\n",
        "        c = b;\n",
        "        b = a;\n",
        "        a = t1 + t2;\n",
        "    }\n",
        "\n",
        "    ctx->state[0] += a;\n",
        "    ctx->state[1] += b;\n",
        "    ctx->state[2] += c;\n",
        "    ctx->state[3] += d;\n",
        "    ctx->state[4] += e;\n",
        "    ctx->state[5] += f;\n",
        "    ctx->state[6] += g;\n",
        "    ctx->state[7] += h;\n",
        "}\n",
        "\n",
        "__device__ void sha256_init(SHA256_CTX* ctx) {\n",
        "    ctx->datalen = 0;\n",
        "    ctx->bitlen = 0;\n",
        "    ctx->state[0] = 0x6a09e667;\n",
        "    ctx->state[1] = 0xbb67ae85;\n",
        "    ctx->state[2] = 0x3c6ef372;\n",
        "    ctx->state[3] = 0xa54ff53a;\n",
        "    ctx->state[4] = 0x510e527f;\n",
        "    ctx->state[5] = 0x9b05688c;\n",
        "    ctx->state[6] = 0x1f83d9ab;\n",
        "    ctx->state[7] = 0x5be0cd19;\n",
        "}\n",
        "\n",
        "__device__ void sha256_update(SHA256_CTX* ctx, const BYTE data[], size_t len) {\n",
        "    WORD i;\n",
        "\n",
        "    // for each byte in message\n",
        "    for (i = 0; i < len; ++i) {\n",
        "        // ctx->data == message 512 bit chunk\n",
        "        ctx->data[ctx->datalen] = data[i];\n",
        "        ctx->datalen++;\n",
        "        if (ctx->datalen == 64) {\n",
        "            sha256_transform(ctx, ctx->data);\n",
        "            ctx->bitlen += 512;\n",
        "            ctx->datalen = 0;\n",
        "        }\n",
        "    }\n",
        "}\n",
        "\n",
        "__device__ void sha256_final(SHA256_CTX* ctx, BYTE hash[]) {\n",
        "    WORD i;\n",
        "\n",
        "    i = ctx->datalen;\n",
        "\n",
        "    // Pad whatever data is left in the buffer.\n",
        "    if (ctx->datalen < 56) {\n",
        "        ctx->data[i++] = 0x80;\n",
        "        while (i < 56)\n",
        "            ctx->data[i++] = 0x00;\n",
        "    }\n",
        "    else {\n",
        "        ctx->data[i++] = 0x80;\n",
        "        while (i < 64)\n",
        "            ctx->data[i++] = 0x00;\n",
        "        sha256_transform(ctx, ctx->data);\n",
        "        memset(ctx->data, 0, 56);\n",
        "    }\n",
        "\n",
        "    // Append to the padding the total message's length in bits and transform.\n",
        "    ctx->bitlen += ctx->datalen * 8;\n",
        "    ctx->data[63] = ctx->bitlen;\n",
        "    ctx->data[62] = ctx->bitlen >> 8;\n",
        "    ctx->data[61] = ctx->bitlen >> 16;\n",
        "    ctx->data[60] = ctx->bitlen >> 24;\n",
        "    ctx->data[59] = ctx->bitlen >> 32;\n",
        "    ctx->data[58] = ctx->bitlen >> 40;\n",
        "    ctx->data[57] = ctx->bitlen >> 48;\n",
        "    ctx->data[56] = ctx->bitlen >> 56;\n",
        "    sha256_transform(ctx, ctx->data);\n",
        "\n",
        "    // Since this implementation uses little endian byte ordering and SHA uses big endian,\n",
        "    // reverse all the bytes when copying the final state to the output hash.\n",
        "    for (i = 0; i < 4; ++i) {\n",
        "        hash[i] = (ctx->state[0] >> (24 - i * 8)) & 0x000000ff;\n",
        "        hash[i + 4] = (ctx->state[1] >> (24 - i * 8)) & 0x000000ff;\n",
        "        hash[i + 8] = (ctx->state[2] >> (24 - i * 8)) & 0x000000ff;\n",
        "        hash[i + 12] = (ctx->state[3] >> (24 - i * 8)) & 0x000000ff;\n",
        "        hash[i + 16] = (ctx->state[4] >> (24 - i * 8)) & 0x000000ff;\n",
        "        hash[i + 20] = (ctx->state[5] >> (24 - i * 8)) & 0x000000ff;\n",
        "        hash[i + 24] = (ctx->state[6] >> (24 - i * 8)) & 0x000000ff;\n",
        "        hash[i + 28] = (ctx->state[7] >> (24 - i * 8)) & 0x000000ff;\n",
        "    }\n",
        "}\n",
        "\n",
        "#endif   // SHA256_H\n"
      ]
    },
    {
      "cell_type": "code",
      "execution_count": 6,
      "metadata": {
        "colab": {
          "base_uri": "https://localhost:8080/"
        },
        "id": "UF-BRveN7j-f",
        "outputId": "393ef923-4b27-46f6-8aad-4d03d792ea8e"
      },
      "outputs": [
        {
          "name": "stdout",
          "output_type": "stream",
          "text": [
            "Writing password_crack_cuda1.cu\n"
          ]
        }
      ],
      "source": [
        "%%writefile password_crack_cuda1.cu\n",
        "#include <stdio.h>\n",
        "#include <cuda_runtime.h>\n",
        "#include \"sha256.cuh\"\n",
        "\n",
        "#define BLOCK_SIZE 16 // Define a block size for CUDA kernel\n",
        "#define GRID_SIZE  16 // Define a grid size for CUDA kernel\n",
        "\n",
        "__global__ void CudaCryptKernel(const char* rawPassword, char* encryptedPassword, int passwordLength) {\n",
        "    int index = blockIdx.x * blockDim.x + threadIdx.x; // Calculate global index\n",
        "\n",
        "    if (index < passwordLength) {\n",
        "        SHA256_CTX ctx;\n",
        "        sha256_init(&ctx);\n",
        "        sha256_update(&ctx, (const BYTE*)&rawPassword[index * 4], 4);\n",
        "        sha256_final(&ctx, (BYTE*)&encryptedPassword[index * 2 * SHA256_BLOCK_SIZE]);\n",
        "    }\n",
        "}\n",
        "\n",
        "bool CheckPasswordPattern(const char* password) {\n",
        "    // Check if the password matches the pattern \"AA00\" to \"ZZ99\"\n",
        "    if (password[0] >= 'A' && password[0] <= 'Z' &&\n",
        "        password[1] >= 'A' && password[1] <= 'Z' &&\n",
        "        password[2] >= '0' && password[2] <= '9' &&\n",
        "        password[3] >= '0' && password[3] <= '9') {\n",
        "        return true;\n",
        "    }\n",
        "    return false;\n",
        "}\n",
        "\n",
        "int main() {\n",
        "    char targetPassword[] = \"KG67\";\n",
        "    char targetEncryptedPassword[2 * SHA256_BLOCK_SIZE + 1]; // For 32-character hexadecimal string + null terminator\n",
        "\n",
        "    char* gpuTargetPassword;\n",
        "    char* gpuTargetEncryptedPassword;\n",
        "\n",
        "    cudaMalloc((void**)&gpuTargetPassword, sizeof(targetPassword));\n",
        "    cudaMalloc((void**)&gpuTargetEncryptedPassword, 2 * SHA256_BLOCK_SIZE + 1);\n",
        "\n",
        "    cudaMemcpy(gpuTargetPassword, targetPassword, sizeof(targetPassword), cudaMemcpyHostToDevice);\n",
        "\n",
        "    if (!CheckPasswordPattern(targetPassword)) {\n",
        "        printf(\"Error: Password should match the pattern 'AA00' to 'ZZ99'.\\n\");\n",
        "        return 1; // Exit with an error code\n",
        "    }\n",
        "\n",
        "    dim3 blocks(GRID_SIZE);\n",
        "    dim3 threads(BLOCK_SIZE);\n",
        "\n",
        "    CudaCryptKernel<<<blocks, threads>>>(gpuTargetPassword, gpuTargetEncryptedPassword, 1); // 1 password to process\n",
        "    cudaDeviceSynchronize();\n",
        "\n",
        "    cudaMemcpy(targetEncryptedPassword, gpuTargetEncryptedPassword, 2 * SHA256_BLOCK_SIZE + 1, cudaMemcpyDeviceToHost);\n",
        "\n",
        "    cudaFree(gpuTargetPassword);\n",
        "    cudaFree(gpuTargetEncryptedPassword);\n",
        "\n",
        "    printf(\"Target Password: %s\\n\", targetPassword);\n",
        "    printf(\"Target Encrypted Password: \");\n",
        "    for (int i = 0; i < SHA256_BLOCK_SIZE; i++) {\n",
        "        printf(\"%02x\", (unsigned char)targetEncryptedPassword[i]);\n",
        "    }\n",
        "    printf(\"\\n\");\n",
        "\n",
        "    return 0;\n",
        "}\n"
      ]
    },
    {
      "cell_type": "code",
      "execution_count": 7,
      "metadata": {
        "colab": {
          "base_uri": "https://localhost:8080/"
        },
        "id": "805p0pv97rxR",
        "outputId": "26e22751-054a-4d04-f6b1-8eb85603fba9"
      },
      "outputs": [
        {
          "name": "stdout",
          "output_type": "stream",
          "text": [
            "\u001b[01m\u001b[0m\u001b[01msha256.cuh(81)\u001b[0m: \u001b[01;35mwarning\u001b[0m #177-D: variable \u001b[01m\"S\"\u001b[0m was declared but never referenced\n",
            "      WORD S[8];\n",
            "           ^\n",
            "\n",
            "\u001b[01;36m\u001b[0m\u001b[01;36mRemark\u001b[0m: The warnings can be suppressed with \"-diag-suppress <warning-number>\"\n",
            "\n",
            "Target Password: KG67\n",
            "Target Encrypted Password: 992deb008af6fdfc8fa22f502c77f6e2edcebf5138cb446e61cc4fa10788af1f\n"
          ]
        },
        {
          "data": {
            "text/plain": []
          },
          "execution_count": 7,
          "metadata": {},
          "output_type": "execute_result"
        }
      ],
      "source": [
        "%%shell\n",
        "nvcc -o password_crack_cuda1 password_crack_cuda1.cu\n",
        "./password_crack_cuda1"
      ]
    },
    {
      "cell_type": "code",
      "execution_count": 8,
      "metadata": {
        "colab": {
          "base_uri": "https://localhost:8080/"
        },
        "id": "7hFLzd8H73og",
        "outputId": "dcb1d4fa-7b1b-4d82-ba6a-fd4348094ded"
      },
      "outputs": [
        {
          "name": "stdout",
          "output_type": "stream",
          "text": [
            "Writing password_crack_cuda2.cu\n"
          ]
        }
      ],
      "source": [
        "%%writefile password_crack_cuda2.cu\n",
        "#include <stdio.h>\n",
        "#include <cuda_runtime.h>\n",
        "#include \"sha256.cuh\"  // Include the header for your SHA-256 implementation\n",
        "\n",
        "#define SHA256_BLOCK_SIZE 32\n",
        "#define GRID_SIZE 32\n",
        "#define BLOCK_SIZE 32\n",
        "#define TOTAL_PASSWORDS (GRID_SIZE * BLOCK_SIZE)\n",
        "\n",
        "__device__ __managed__ int found = 0;\n",
        "__device__ __managed__ char correctPassword[5];\n",
        "\n",
        "__global__ void CudaCryptKernel(BYTE* targetHash) {\n",
        "    int idx = blockIdx.x * blockDim.x + threadIdx.x;\n",
        "    char rawPassword[5];\n",
        "\n",
        "    // Calculate the starting index for this thread block\n",
        "    int startIdx = idx * TOTAL_PASSWORDS;\n",
        "\n",
        "    for (int p = 0; p < TOTAL_PASSWORDS; p++) {\n",
        "        // Generate a potential password based on the thread block's index\n",
        "        rawPassword[0] = 'A' + ((startIdx + p) % 26); // First character: 'A' to 'Z'\n",
        "        rawPassword[1] = 'A' + (((startIdx + p) / 26) % 26); // Second character: 'A' to 'Z'\n",
        "        rawPassword[2] = '0' + (((startIdx + p) / (26 * 26)) % 10); // Third character: '0' to '9'\n",
        "        rawPassword[3] = '0' + (((startIdx + p) / (26 * 26 * 10)) % 10); // Fourth character: '0' to '9'\n",
        "        rawPassword[4] = '\\0'; // Null-terminator for string\n",
        "\n",
        "        BYTE outputHash[SHA256_BLOCK_SIZE];\n",
        "        SHA256_CTX ctx;\n",
        "        sha256_init(&ctx);\n",
        "        sha256_update(&ctx, (const BYTE*)rawPassword, 4);\n",
        "        sha256_final(&ctx, outputHash);\n",
        "\n",
        "        // Check if the hashes match\n",
        "        bool hashesMatch = true;\n",
        "        for (int i = 0; i < SHA256_BLOCK_SIZE; i++) {\n",
        "            if (outputHash[i] != targetHash[i]) {\n",
        "                hashesMatch = false;\n",
        "                break;\n",
        "            }\n",
        "        }\n",
        "\n",
        "        if (hashesMatch) {\n",
        "            memcpy(correctPassword, rawPassword, 4);\n",
        "            found = 1;\n",
        "            return; // Exit early if found\n",
        "        }\n",
        "    }\n",
        "}\n",
        "\n",
        "int main() {\n",
        "    const char* targetHashString = \"992deb008af6fdfc8fa22f502c77f6e2edcebf5138cb446e61cc4fa10788af1f\";\n",
        "    BYTE targetHash[SHA256_BLOCK_SIZE];\n",
        "\n",
        "    // Check if the target hash string has exactly 64 characters\n",
        "    if (strlen(targetHashString) != 64) {\n",
        "        printf(\"Error: The target hash string must have exactly 64 characters.\\n\");\n",
        "        return 1; // Exit with an error code\n",
        "    }\n",
        "\n",
        "    // Convert hash string to byte array\n",
        "    for (int i = 0; i < SHA256_BLOCK_SIZE; i++) {\n",
        "        targetHash[i] = (targetHashString[2 * i] >= 'a') ? (targetHashString[2 * i] - 'a' + 10) : (targetHashString[2 * i] - '0');\n",
        "        targetHash[i] = (targetHash[i] << 4) | ((targetHashString[2 * i + 1] >= 'a') ? (targetHashString[2 * i + 1] - 'a' + 10) : (targetHashString[2 * i + 1] - '0'));\n",
        "    }\n",
        "\n",
        "    BYTE* gpuTargetHash;\n",
        "    cudaMalloc(&gpuTargetHash, SHA256_BLOCK_SIZE);\n",
        "    cudaMemcpy(gpuTargetHash, targetHash, SHA256_BLOCK_SIZE, cudaMemcpyHostToDevice);\n",
        "\n",
        "    // Launch kernel with multiple thread blocks\n",
        "    CudaCryptKernel<<<GRID_SIZE, BLOCK_SIZE>>>(gpuTargetHash);\n",
        "    cudaDeviceSynchronize();\n",
        "\n",
        "    if (found) {\n",
        "        printf(\"Decrypted Password found: %s\\n\", correctPassword);\n",
        "    } else {\n",
        "        printf(\"Password not found.\\n\");\n",
        "    }\n",
        "\n",
        "    cudaFree(gpuTargetHash);\n",
        "    return 0;\n",
        "}\n",
        "\n"
      ]
    },
    {
      "cell_type": "code",
      "execution_count": 9,
      "metadata": {
        "colab": {
          "base_uri": "https://localhost:8080/"
        },
        "id": "LuCtVOY477-E",
        "outputId": "a9bd8154-d77d-4b92-90f5-439b59e0f9b0"
      },
      "outputs": [
        {
          "name": "stdout",
          "output_type": "stream",
          "text": [
            "\u001b[01m\u001b[0m\u001b[01msha256.cuh(81)\u001b[0m: \u001b[01;35mwarning\u001b[0m #177-D: variable \u001b[01m\"S\"\u001b[0m was declared but never referenced\n",
            "      WORD S[8];\n",
            "           ^\n",
            "\n",
            "\u001b[01;36m\u001b[0m\u001b[01;36mRemark\u001b[0m: The warnings can be suppressed with \"-diag-suppress <warning-number>\"\n",
            "\n",
            "Decrypted Password found: KG67\n"
          ]
        },
        {
          "data": {
            "text/plain": []
          },
          "execution_count": 9,
          "metadata": {},
          "output_type": "execute_result"
        }
      ],
      "source": [
        "%%shell\n",
        "nvcc -o password_crack_cuda2 password_crack_cuda2.cu\n",
        "./password_crack_cuda2"
      ]
    }
  ],
  "metadata": {
    "accelerator": "GPU",
    "colab": {
      "gpuType": "T4",
      "provenance": []
    },
    "kernelspec": {
      "display_name": "Python 3",
      "name": "python3"
    },
    "language_info": {
      "name": "python"
    }
  },
  "nbformat": 4,
  "nbformat_minor": 0
}
